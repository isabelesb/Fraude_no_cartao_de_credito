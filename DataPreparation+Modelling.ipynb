{
  "nbformat": 4,
  "nbformat_minor": 0,
  "metadata": {
    "colab": {
      "provenance": [],
      "authorship_tag": "ABX9TyMmHU1CTGLP9OE5rdc1WUdP",
      "include_colab_link": true
    },
    "kernelspec": {
      "name": "python3",
      "display_name": "Python 3"
    },
    "language_info": {
      "name": "python"
    }
  },
  "cells": [
    {
      "cell_type": "markdown",
      "metadata": {
        "id": "view-in-github",
        "colab_type": "text"
      },
      "source": [
        "<a href=\"https://colab.research.google.com/github/isabelesb/Fraude_no_cartao_de_credito/blob/main/DataPreparation%2BModelling.ipynb\" target=\"_parent\"><img src=\"https://colab.research.google.com/assets/colab-badge.svg\" alt=\"Open In Colab\"/></a>"
      ]
    },
    {
      "cell_type": "markdown",
      "source": [
        "## Bibliotecas:"
      ],
      "metadata": {
        "id": "wx6WOED7qEfD"
      }
    },
    {
      "cell_type": "code",
      "execution_count": 23,
      "metadata": {
        "id": "9-QxzKxcqCEx"
      },
      "outputs": [],
      "source": [
        "import pandas as pd\n",
        "\n",
        "from sklearn.preprocessing import MinMaxScaler\n",
        "from sklearn.model_selection import train_test_split, GridSearchCV\n",
        "\n",
        "from sklearn.linear_model import LogisticRegression\n",
        "from sklearn.ensemble import RandomForestClassifier\n",
        "from sklearn.tree import DecisionTreeClassifier\n",
        "\n",
        "from sklearn.metrics import accuracy_score, balanced_accuracy_score, f1_score, confusion_matrix, ConfusionMatrixDisplay\n",
        "\n",
        "from imblearn.over_sampling import RandomOverSampler"
      ]
    },
    {
      "cell_type": "code",
      "source": [
        "df = pd.read_csv('/content/creditcard.csv')\n",
        "df.head()"
      ],
      "metadata": {
        "colab": {
          "base_uri": "https://localhost:8080/",
          "height": 256
        },
        "id": "4sgQujtGqL40",
        "outputId": "9eb4b60d-2555-4504-c029-d3d6f104c7ac"
      },
      "execution_count": 2,
      "outputs": [
        {
          "output_type": "execute_result",
          "data": {
            "text/plain": [
              "   Time        V1        V2        V3        V4        V5        V6        V7  \\\n",
              "0   0.0 -1.359807 -0.072781  2.536347  1.378155 -0.338321  0.462388  0.239599   \n",
              "1   0.0  1.191857  0.266151  0.166480  0.448154  0.060018 -0.082361 -0.078803   \n",
              "2   1.0 -1.358354 -1.340163  1.773209  0.379780 -0.503198  1.800499  0.791461   \n",
              "3   1.0 -0.966272 -0.185226  1.792993 -0.863291 -0.010309  1.247203  0.237609   \n",
              "4   2.0 -1.158233  0.877737  1.548718  0.403034 -0.407193  0.095921  0.592941   \n",
              "\n",
              "         V8        V9  ...       V21       V22       V23       V24       V25  \\\n",
              "0  0.098698  0.363787  ... -0.018307  0.277838 -0.110474  0.066928  0.128539   \n",
              "1  0.085102 -0.255425  ... -0.225775 -0.638672  0.101288 -0.339846  0.167170   \n",
              "2  0.247676 -1.514654  ...  0.247998  0.771679  0.909412 -0.689281 -0.327642   \n",
              "3  0.377436 -1.387024  ... -0.108300  0.005274 -0.190321 -1.175575  0.647376   \n",
              "4 -0.270533  0.817739  ... -0.009431  0.798278 -0.137458  0.141267 -0.206010   \n",
              "\n",
              "        V26       V27       V28  Amount  Class  \n",
              "0 -0.189115  0.133558 -0.021053  149.62      0  \n",
              "1  0.125895 -0.008983  0.014724    2.69      0  \n",
              "2 -0.139097 -0.055353 -0.059752  378.66      0  \n",
              "3 -0.221929  0.062723  0.061458  123.50      0  \n",
              "4  0.502292  0.219422  0.215153   69.99      0  \n",
              "\n",
              "[5 rows x 31 columns]"
            ],
            "text/html": [
              "\n",
              "  <div id=\"df-50e16ddd-f261-4605-b118-d75c9aea7d57\" class=\"colab-df-container\">\n",
              "    <div>\n",
              "<style scoped>\n",
              "    .dataframe tbody tr th:only-of-type {\n",
              "        vertical-align: middle;\n",
              "    }\n",
              "\n",
              "    .dataframe tbody tr th {\n",
              "        vertical-align: top;\n",
              "    }\n",
              "\n",
              "    .dataframe thead th {\n",
              "        text-align: right;\n",
              "    }\n",
              "</style>\n",
              "<table border=\"1\" class=\"dataframe\">\n",
              "  <thead>\n",
              "    <tr style=\"text-align: right;\">\n",
              "      <th></th>\n",
              "      <th>Time</th>\n",
              "      <th>V1</th>\n",
              "      <th>V2</th>\n",
              "      <th>V3</th>\n",
              "      <th>V4</th>\n",
              "      <th>V5</th>\n",
              "      <th>V6</th>\n",
              "      <th>V7</th>\n",
              "      <th>V8</th>\n",
              "      <th>V9</th>\n",
              "      <th>...</th>\n",
              "      <th>V21</th>\n",
              "      <th>V22</th>\n",
              "      <th>V23</th>\n",
              "      <th>V24</th>\n",
              "      <th>V25</th>\n",
              "      <th>V26</th>\n",
              "      <th>V27</th>\n",
              "      <th>V28</th>\n",
              "      <th>Amount</th>\n",
              "      <th>Class</th>\n",
              "    </tr>\n",
              "  </thead>\n",
              "  <tbody>\n",
              "    <tr>\n",
              "      <th>0</th>\n",
              "      <td>0.0</td>\n",
              "      <td>-1.359807</td>\n",
              "      <td>-0.072781</td>\n",
              "      <td>2.536347</td>\n",
              "      <td>1.378155</td>\n",
              "      <td>-0.338321</td>\n",
              "      <td>0.462388</td>\n",
              "      <td>0.239599</td>\n",
              "      <td>0.098698</td>\n",
              "      <td>0.363787</td>\n",
              "      <td>...</td>\n",
              "      <td>-0.018307</td>\n",
              "      <td>0.277838</td>\n",
              "      <td>-0.110474</td>\n",
              "      <td>0.066928</td>\n",
              "      <td>0.128539</td>\n",
              "      <td>-0.189115</td>\n",
              "      <td>0.133558</td>\n",
              "      <td>-0.021053</td>\n",
              "      <td>149.62</td>\n",
              "      <td>0</td>\n",
              "    </tr>\n",
              "    <tr>\n",
              "      <th>1</th>\n",
              "      <td>0.0</td>\n",
              "      <td>1.191857</td>\n",
              "      <td>0.266151</td>\n",
              "      <td>0.166480</td>\n",
              "      <td>0.448154</td>\n",
              "      <td>0.060018</td>\n",
              "      <td>-0.082361</td>\n",
              "      <td>-0.078803</td>\n",
              "      <td>0.085102</td>\n",
              "      <td>-0.255425</td>\n",
              "      <td>...</td>\n",
              "      <td>-0.225775</td>\n",
              "      <td>-0.638672</td>\n",
              "      <td>0.101288</td>\n",
              "      <td>-0.339846</td>\n",
              "      <td>0.167170</td>\n",
              "      <td>0.125895</td>\n",
              "      <td>-0.008983</td>\n",
              "      <td>0.014724</td>\n",
              "      <td>2.69</td>\n",
              "      <td>0</td>\n",
              "    </tr>\n",
              "    <tr>\n",
              "      <th>2</th>\n",
              "      <td>1.0</td>\n",
              "      <td>-1.358354</td>\n",
              "      <td>-1.340163</td>\n",
              "      <td>1.773209</td>\n",
              "      <td>0.379780</td>\n",
              "      <td>-0.503198</td>\n",
              "      <td>1.800499</td>\n",
              "      <td>0.791461</td>\n",
              "      <td>0.247676</td>\n",
              "      <td>-1.514654</td>\n",
              "      <td>...</td>\n",
              "      <td>0.247998</td>\n",
              "      <td>0.771679</td>\n",
              "      <td>0.909412</td>\n",
              "      <td>-0.689281</td>\n",
              "      <td>-0.327642</td>\n",
              "      <td>-0.139097</td>\n",
              "      <td>-0.055353</td>\n",
              "      <td>-0.059752</td>\n",
              "      <td>378.66</td>\n",
              "      <td>0</td>\n",
              "    </tr>\n",
              "    <tr>\n",
              "      <th>3</th>\n",
              "      <td>1.0</td>\n",
              "      <td>-0.966272</td>\n",
              "      <td>-0.185226</td>\n",
              "      <td>1.792993</td>\n",
              "      <td>-0.863291</td>\n",
              "      <td>-0.010309</td>\n",
              "      <td>1.247203</td>\n",
              "      <td>0.237609</td>\n",
              "      <td>0.377436</td>\n",
              "      <td>-1.387024</td>\n",
              "      <td>...</td>\n",
              "      <td>-0.108300</td>\n",
              "      <td>0.005274</td>\n",
              "      <td>-0.190321</td>\n",
              "      <td>-1.175575</td>\n",
              "      <td>0.647376</td>\n",
              "      <td>-0.221929</td>\n",
              "      <td>0.062723</td>\n",
              "      <td>0.061458</td>\n",
              "      <td>123.50</td>\n",
              "      <td>0</td>\n",
              "    </tr>\n",
              "    <tr>\n",
              "      <th>4</th>\n",
              "      <td>2.0</td>\n",
              "      <td>-1.158233</td>\n",
              "      <td>0.877737</td>\n",
              "      <td>1.548718</td>\n",
              "      <td>0.403034</td>\n",
              "      <td>-0.407193</td>\n",
              "      <td>0.095921</td>\n",
              "      <td>0.592941</td>\n",
              "      <td>-0.270533</td>\n",
              "      <td>0.817739</td>\n",
              "      <td>...</td>\n",
              "      <td>-0.009431</td>\n",
              "      <td>0.798278</td>\n",
              "      <td>-0.137458</td>\n",
              "      <td>0.141267</td>\n",
              "      <td>-0.206010</td>\n",
              "      <td>0.502292</td>\n",
              "      <td>0.219422</td>\n",
              "      <td>0.215153</td>\n",
              "      <td>69.99</td>\n",
              "      <td>0</td>\n",
              "    </tr>\n",
              "  </tbody>\n",
              "</table>\n",
              "<p>5 rows × 31 columns</p>\n",
              "</div>\n",
              "    <div class=\"colab-df-buttons\">\n",
              "\n",
              "  <div class=\"colab-df-container\">\n",
              "    <button class=\"colab-df-convert\" onclick=\"convertToInteractive('df-50e16ddd-f261-4605-b118-d75c9aea7d57')\"\n",
              "            title=\"Convert this dataframe to an interactive table.\"\n",
              "            style=\"display:none;\">\n",
              "\n",
              "  <svg xmlns=\"http://www.w3.org/2000/svg\" height=\"24px\" viewBox=\"0 -960 960 960\">\n",
              "    <path d=\"M120-120v-720h720v720H120Zm60-500h600v-160H180v160Zm220 220h160v-160H400v160Zm0 220h160v-160H400v160ZM180-400h160v-160H180v160Zm440 0h160v-160H620v160ZM180-180h160v-160H180v160Zm440 0h160v-160H620v160Z\"/>\n",
              "  </svg>\n",
              "    </button>\n",
              "\n",
              "  <style>\n",
              "    .colab-df-container {\n",
              "      display:flex;\n",
              "      gap: 12px;\n",
              "    }\n",
              "\n",
              "    .colab-df-convert {\n",
              "      background-color: #E8F0FE;\n",
              "      border: none;\n",
              "      border-radius: 50%;\n",
              "      cursor: pointer;\n",
              "      display: none;\n",
              "      fill: #1967D2;\n",
              "      height: 32px;\n",
              "      padding: 0 0 0 0;\n",
              "      width: 32px;\n",
              "    }\n",
              "\n",
              "    .colab-df-convert:hover {\n",
              "      background-color: #E2EBFA;\n",
              "      box-shadow: 0px 1px 2px rgba(60, 64, 67, 0.3), 0px 1px 3px 1px rgba(60, 64, 67, 0.15);\n",
              "      fill: #174EA6;\n",
              "    }\n",
              "\n",
              "    .colab-df-buttons div {\n",
              "      margin-bottom: 4px;\n",
              "    }\n",
              "\n",
              "    [theme=dark] .colab-df-convert {\n",
              "      background-color: #3B4455;\n",
              "      fill: #D2E3FC;\n",
              "    }\n",
              "\n",
              "    [theme=dark] .colab-df-convert:hover {\n",
              "      background-color: #434B5C;\n",
              "      box-shadow: 0px 1px 3px 1px rgba(0, 0, 0, 0.15);\n",
              "      filter: drop-shadow(0px 1px 2px rgba(0, 0, 0, 0.3));\n",
              "      fill: #FFFFFF;\n",
              "    }\n",
              "  </style>\n",
              "\n",
              "    <script>\n",
              "      const buttonEl =\n",
              "        document.querySelector('#df-50e16ddd-f261-4605-b118-d75c9aea7d57 button.colab-df-convert');\n",
              "      buttonEl.style.display =\n",
              "        google.colab.kernel.accessAllowed ? 'block' : 'none';\n",
              "\n",
              "      async function convertToInteractive(key) {\n",
              "        const element = document.querySelector('#df-50e16ddd-f261-4605-b118-d75c9aea7d57');\n",
              "        const dataTable =\n",
              "          await google.colab.kernel.invokeFunction('convertToInteractive',\n",
              "                                                    [key], {});\n",
              "        if (!dataTable) return;\n",
              "\n",
              "        const docLinkHtml = 'Like what you see? Visit the ' +\n",
              "          '<a target=\"_blank\" href=https://colab.research.google.com/notebooks/data_table.ipynb>data table notebook</a>'\n",
              "          + ' to learn more about interactive tables.';\n",
              "        element.innerHTML = '';\n",
              "        dataTable['output_type'] = 'display_data';\n",
              "        await google.colab.output.renderOutput(dataTable, element);\n",
              "        const docLink = document.createElement('div');\n",
              "        docLink.innerHTML = docLinkHtml;\n",
              "        element.appendChild(docLink);\n",
              "      }\n",
              "    </script>\n",
              "  </div>\n",
              "\n",
              "\n",
              "<div id=\"df-865f9667-241a-4f6a-b424-f2d565448a82\">\n",
              "  <button class=\"colab-df-quickchart\" onclick=\"quickchart('df-865f9667-241a-4f6a-b424-f2d565448a82')\"\n",
              "            title=\"Suggest charts\"\n",
              "            style=\"display:none;\">\n",
              "\n",
              "<svg xmlns=\"http://www.w3.org/2000/svg\" height=\"24px\"viewBox=\"0 0 24 24\"\n",
              "     width=\"24px\">\n",
              "    <g>\n",
              "        <path d=\"M19 3H5c-1.1 0-2 .9-2 2v14c0 1.1.9 2 2 2h14c1.1 0 2-.9 2-2V5c0-1.1-.9-2-2-2zM9 17H7v-7h2v7zm4 0h-2V7h2v10zm4 0h-2v-4h2v4z\"/>\n",
              "    </g>\n",
              "</svg>\n",
              "  </button>\n",
              "\n",
              "<style>\n",
              "  .colab-df-quickchart {\n",
              "      --bg-color: #E8F0FE;\n",
              "      --fill-color: #1967D2;\n",
              "      --hover-bg-color: #E2EBFA;\n",
              "      --hover-fill-color: #174EA6;\n",
              "      --disabled-fill-color: #AAA;\n",
              "      --disabled-bg-color: #DDD;\n",
              "  }\n",
              "\n",
              "  [theme=dark] .colab-df-quickchart {\n",
              "      --bg-color: #3B4455;\n",
              "      --fill-color: #D2E3FC;\n",
              "      --hover-bg-color: #434B5C;\n",
              "      --hover-fill-color: #FFFFFF;\n",
              "      --disabled-bg-color: #3B4455;\n",
              "      --disabled-fill-color: #666;\n",
              "  }\n",
              "\n",
              "  .colab-df-quickchart {\n",
              "    background-color: var(--bg-color);\n",
              "    border: none;\n",
              "    border-radius: 50%;\n",
              "    cursor: pointer;\n",
              "    display: none;\n",
              "    fill: var(--fill-color);\n",
              "    height: 32px;\n",
              "    padding: 0;\n",
              "    width: 32px;\n",
              "  }\n",
              "\n",
              "  .colab-df-quickchart:hover {\n",
              "    background-color: var(--hover-bg-color);\n",
              "    box-shadow: 0 1px 2px rgba(60, 64, 67, 0.3), 0 1px 3px 1px rgba(60, 64, 67, 0.15);\n",
              "    fill: var(--button-hover-fill-color);\n",
              "  }\n",
              "\n",
              "  .colab-df-quickchart-complete:disabled,\n",
              "  .colab-df-quickchart-complete:disabled:hover {\n",
              "    background-color: var(--disabled-bg-color);\n",
              "    fill: var(--disabled-fill-color);\n",
              "    box-shadow: none;\n",
              "  }\n",
              "\n",
              "  .colab-df-spinner {\n",
              "    border: 2px solid var(--fill-color);\n",
              "    border-color: transparent;\n",
              "    border-bottom-color: var(--fill-color);\n",
              "    animation:\n",
              "      spin 1s steps(1) infinite;\n",
              "  }\n",
              "\n",
              "  @keyframes spin {\n",
              "    0% {\n",
              "      border-color: transparent;\n",
              "      border-bottom-color: var(--fill-color);\n",
              "      border-left-color: var(--fill-color);\n",
              "    }\n",
              "    20% {\n",
              "      border-color: transparent;\n",
              "      border-left-color: var(--fill-color);\n",
              "      border-top-color: var(--fill-color);\n",
              "    }\n",
              "    30% {\n",
              "      border-color: transparent;\n",
              "      border-left-color: var(--fill-color);\n",
              "      border-top-color: var(--fill-color);\n",
              "      border-right-color: var(--fill-color);\n",
              "    }\n",
              "    40% {\n",
              "      border-color: transparent;\n",
              "      border-right-color: var(--fill-color);\n",
              "      border-top-color: var(--fill-color);\n",
              "    }\n",
              "    60% {\n",
              "      border-color: transparent;\n",
              "      border-right-color: var(--fill-color);\n",
              "    }\n",
              "    80% {\n",
              "      border-color: transparent;\n",
              "      border-right-color: var(--fill-color);\n",
              "      border-bottom-color: var(--fill-color);\n",
              "    }\n",
              "    90% {\n",
              "      border-color: transparent;\n",
              "      border-bottom-color: var(--fill-color);\n",
              "    }\n",
              "  }\n",
              "</style>\n",
              "\n",
              "  <script>\n",
              "    async function quickchart(key) {\n",
              "      const quickchartButtonEl =\n",
              "        document.querySelector('#' + key + ' button');\n",
              "      quickchartButtonEl.disabled = true;  // To prevent multiple clicks.\n",
              "      quickchartButtonEl.classList.add('colab-df-spinner');\n",
              "      try {\n",
              "        const charts = await google.colab.kernel.invokeFunction(\n",
              "            'suggestCharts', [key], {});\n",
              "      } catch (error) {\n",
              "        console.error('Error during call to suggestCharts:', error);\n",
              "      }\n",
              "      quickchartButtonEl.classList.remove('colab-df-spinner');\n",
              "      quickchartButtonEl.classList.add('colab-df-quickchart-complete');\n",
              "    }\n",
              "    (() => {\n",
              "      let quickchartButtonEl =\n",
              "        document.querySelector('#df-865f9667-241a-4f6a-b424-f2d565448a82 button');\n",
              "      quickchartButtonEl.style.display =\n",
              "        google.colab.kernel.accessAllowed ? 'block' : 'none';\n",
              "    })();\n",
              "  </script>\n",
              "</div>\n",
              "\n",
              "    </div>\n",
              "  </div>\n"
            ],
            "application/vnd.google.colaboratory.intrinsic+json": {
              "type": "dataframe",
              "variable_name": "df"
            }
          },
          "metadata": {},
          "execution_count": 2
        }
      ]
    },
    {
      "cell_type": "markdown",
      "source": [
        "## Tratamento dos dados:"
      ],
      "metadata": {
        "id": "v7pOz0j-sWdx"
      }
    },
    {
      "cell_type": "code",
      "source": [
        "# Droppando os valores  0 nas transações.\n",
        "df_ = df.query('Amount!=0')"
      ],
      "metadata": {
        "id": "oHjBRfWWsSK2"
      },
      "execution_count": 3,
      "outputs": []
    },
    {
      "cell_type": "code",
      "source": [
        "# Droppando os dados duplicados.\n",
        "df_ = df_.drop_duplicates()"
      ],
      "metadata": {
        "id": "iXXpPW8ntI18"
      },
      "execution_count": 4,
      "outputs": []
    },
    {
      "cell_type": "code",
      "source": [
        "df_.duplicated().sum()"
      ],
      "metadata": {
        "colab": {
          "base_uri": "https://localhost:8080/"
        },
        "id": "OqW6OfYztv7x",
        "outputId": "471aac0d-9211-4efc-a887-7df3204168f5"
      },
      "execution_count": 5,
      "outputs": [
        {
          "output_type": "execute_result",
          "data": {
            "text/plain": [
              "0"
            ]
          },
          "metadata": {},
          "execution_count": 5
        }
      ]
    },
    {
      "cell_type": "code",
      "source": [
        "# Separando os dados em featuress e target e normalizando as features.\n",
        "x = df_.drop(columns='Class')\n",
        "y = df_.Class\n",
        "\n",
        "mms = MinMaxScaler()\n",
        "x = pd.DataFrame(mms.fit_transform(x), columns=x.columns)"
      ],
      "metadata": {
        "id": "2oc90YX1t-mL"
      },
      "execution_count": 6,
      "outputs": []
    },
    {
      "cell_type": "code",
      "source": [
        "# Separando os dados em treino e teste.\n",
        "x_train, x_test, y_train, y_test = train_test_split(x, y, test_size=0.25, random_state=42)"
      ],
      "metadata": {
        "id": "YClLP22Y01L_"
      },
      "execution_count": 7,
      "outputs": []
    },
    {
      "cell_type": "code",
      "source": [
        "# Balanceando os dados de treino.\n",
        "\n",
        "os = RandomOverSampler(sampling_strategy='minority')\n",
        "x_over, y_over = os.fit_resample(x_train, y_train)"
      ],
      "metadata": {
        "id": "qYKMSdBw1li0"
      },
      "execution_count": 8,
      "outputs": []
    },
    {
      "cell_type": "markdown",
      "source": [
        "## Modelos:"
      ],
      "metadata": {
        "id": "cLtqqlz11F8K"
      }
    },
    {
      "cell_type": "markdown",
      "source": [
        "### Regressão Logística:"
      ],
      "metadata": {
        "id": "2z-4biU-1KRr"
      }
    },
    {
      "cell_type": "code",
      "source": [
        "# Criando o modelo, treinando e testando\n",
        "lr = LogisticRegression()\n",
        "lr.fit(x_train, y_train)\n",
        "y_pred_lr = lr.predict(x_test)"
      ],
      "metadata": {
        "id": "QXqjeagX1JW9"
      },
      "execution_count": 13,
      "outputs": []
    },
    {
      "cell_type": "code",
      "source": [
        "# Exibindo a matriz de confusão\n",
        "lr_cm = confusion_matrix(y_test, y_pred_lr, labels=lr.classes_)\n",
        "lr_disp = ConfusionMatrixDisplay(confusion_matrix=lr_cm, display_labels=lr.classes_)\n",
        "lr_disp.plot()"
      ],
      "metadata": {
        "colab": {
          "base_uri": "https://localhost:8080/",
          "height": 470
        },
        "id": "40LNpPVW5fDz",
        "outputId": "e2f7d31e-a158-4716-ade1-5f87ef315708"
      },
      "execution_count": 14,
      "outputs": [
        {
          "output_type": "execute_result",
          "data": {
            "text/plain": [
              "<sklearn.metrics._plot.confusion_matrix.ConfusionMatrixDisplay at 0x7c2c5c73a890>"
            ]
          },
          "metadata": {},
          "execution_count": 14
        },
        {
          "output_type": "display_data",
          "data": {
            "text/plain": [
              "<Figure size 640x480 with 2 Axes>"
            ],
            "image/png": "[encoded data removed]"
          },
          "metadata": {}
        }
      ]
    },
    {
      "cell_type": "code",
      "source": [
        "# Criando o modelo, treinando e testando, com os dados do Over Sample\n",
        "lr_over = LogisticRegression()\n",
        "lr_over.fit(x_over, y_over)\n",
        "y_pred_lr_over = lr_over.predict(x_test)"
      ],
      "metadata": {
        "colab": {
          "base_uri": "https://localhost:8080/"
        },
        "id": "h95z8hDl4VJW",
        "outputId": "59482721-3efe-4f05-9e00-f0833105c772"
      },
      "execution_count": 11,
      "outputs": [
        {
          "output_type": "stream",
          "name": "stderr",
          "text": [
            "/usr/local/lib/python3.10/dist-packages/sklearn/linear_model/_logistic.py:469: ConvergenceWarning: lbfgs failed to converge (status=1):\n",
            "STOP: TOTAL NO. of ITERATIONS REACHED LIMIT.\n",
            "\n",
            "Increase the number of iterations (max_iter) or scale the data as shown in:\n",
            "    https://scikit-learn.org/stable/modules/preprocessing.html\n",
            "Please also refer to the documentation for alternative solver options:\n",
            "    https://scikit-learn.org/stable/modules/linear_model.html#logistic-regression\n",
            "  n_iter_i = _check_optimize_result(\n"
          ]
        }
      ]
    },
    {
      "cell_type": "code",
      "source": [
        "# Exibindo a matriz de confusão\n",
        "lr_over_cm = confusion_matrix(y_test, y_pred_lr_over, labels=lr_over.classes_)\n",
        "lr_over_disp = ConfusionMatrixDisplay(confusion_matrix=lr_over_cm, display_labels=lr_over.classes_)\n",
        "lr_over_disp.plot()"
      ],
      "metadata": {
        "colab": {
          "base_uri": "https://localhost:8080/",
          "height": 466
        },
        "id": "ubH5TQQW5kdY",
        "outputId": "bb396f0c-d5cd-4360-f5c3-6b37492b3368"
      },
      "execution_count": 12,
      "outputs": [
        {
          "output_type": "execute_result",
          "data": {
            "text/plain": [
              "<sklearn.metrics._plot.confusion_matrix.ConfusionMatrixDisplay at 0x7c2c5fec3a60>"
            ]
          },
          "metadata": {},
          "execution_count": 12
        },
        {
          "output_type": "display_data",
          "data": {
            "text/plain": [
              "<Figure size 640x480 with 2 Axes>"
            ],
            "image/png": "[encoded data removed]"
          },
          "metadata": {}
        }
      ]
    },
    {
      "cell_type": "code",
      "source": [
        "# Mostrando as métricas e comparando treino com teste para analisar possível over fitting.\n",
        "print(f'Acurácia - Treino: {accuracy_score(y_train, lr.predict(x_train))}')\n",
        "print(f'Acurácia - Teste: {accuracy_score(y_test, y_pred_lr)}')\n",
        "print(10*'-+-')\n",
        "print(f'Acurácia Balanceada - Treino: {balanced_accuracy_score(y_train, lr.predict(x_train))}')\n",
        "print(f'Acurácia Balanceada - Teste: {balanced_accuracy_score(y_test, y_pred_lr)}')\n",
        "print(10*'-+-')\n",
        "print(f'F1 - Treino: {f1_score(y_train, lr.predict(x_train))}')\n",
        "print(f'F1 - Teste: {f1_score(y_test, y_pred_lr)}')\n",
        "print(10*'-+-')\n",
        "print(10*'-+-')\n",
        "print(f'Acurácia Over - Treino: {accuracy_score(y_train, lr_over.predict(x_train))}')\n",
        "print(f'Acurácia Over - Teste: {accuracy_score(y_test, y_pred_lr_over)}')\n",
        "print(10*'-+-')\n",
        "print(f'Acurácia Balanceada Over - Treino: {balanced_accuracy_score(y_train, lr_over.predict(x_train))}')\n",
        "print(f'Acurácia Balanceada Over - Teste: {balanced_accuracy_score(y_test, y_pred_lr_over)}')\n",
        "print(10*'-+-')\n",
        "print(f'F1 Over - Treino: {f1_score(y_train, lr_over.predict(x_train))}')\n",
        "print(f'F1 Over - Teste: {f1_score(y_test, y_pred_lr_over)}')"
      ],
      "metadata": {
        "id": "P2SXIKUi9L9i",
        "outputId": "1292d613-1d52-46f7-8d6a-062ea7cc1df7",
        "colab": {
          "base_uri": "https://localhost:8080/"
        }
      },
      "execution_count": 15,
      "outputs": [
        {
          "output_type": "stream",
          "name": "stdout",
          "text": [
            "Acurácia - Treino: 0.9990115305668801\n",
            "Acurácia - Teste: 0.9990209988649262\n",
            "-+--+--+--+--+--+--+--+--+--+-\n",
            "Acurácia Balanceada - Treino: 0.7405086514172577\n",
            "Acurácia Balanceada - Teste: 0.7183684514096135\n",
            "-+--+--+--+--+--+--+--+--+--+-\n",
            "F1 - Treino: 0.6136783733826248\n",
            "F1 - Teste: 0.5660377358490566\n",
            "-+--+--+--+--+--+--+--+--+--+-\n",
            "-+--+--+--+--+--+--+--+--+--+-\n",
            "Acurácia Over - Treino: 0.9761632251534729\n",
            "Acurácia Over - Teste: 0.9755249716231555\n",
            "-+--+--+--+--+--+--+--+--+--+-\n",
            "Acurácia Balanceada Over - Treino: 0.9417611181334526\n",
            "Acurácia Balanceada Over - Teste: 0.9489664609369428\n",
            "-+--+--+--+--+--+--+--+--+--+-\n",
            "F1 Over - Treino: 0.11048358630427109\n",
            "F1 Over - Teste: 0.09921671018276762\n"
          ]
        }
      ]
    },
    {
      "cell_type": "markdown",
      "source": [
        "Percebemos que o modelo com over sample foi melhor apenas na acurácia balanceada. E que não há over fitting em nenhum dos dois."
      ],
      "metadata": {
        "id": "b2nQx3igB2ar"
      }
    },
    {
      "cell_type": "markdown",
      "source": [
        "### Random Forest:"
      ],
      "metadata": {
        "id": "J39h21iM1z5r"
      }
    },
    {
      "cell_type": "code",
      "source": [
        "# Criando o modelo, treinando e testando\n",
        "rf = RandomForestClassifier()\n",
        "rf.fit(x_train, y_train)\n",
        "y_pred_rf = (rf.predict(x_test))"
      ],
      "metadata": {
        "id": "n7YkQeN-16mp"
      },
      "execution_count": 16,
      "outputs": []
    },
    {
      "cell_type": "code",
      "source": [
        "# Exibindo a matriz de confusão\n",
        "rf_cm = confusion_matrix(y_test, y_pred_rf, labels=rf.classes_)\n",
        "rf_disp = ConfusionMatrixDisplay(confusion_matrix=rf_cm, display_labels=rf.classes_)\n",
        "rf_disp.plot()"
      ],
      "metadata": {
        "id": "TW92b7esC22o",
        "outputId": "9a6fc48d-789d-435c-d83d-029f5b7feab1",
        "colab": {
          "base_uri": "https://localhost:8080/",
          "height": 470
        }
      },
      "execution_count": 17,
      "outputs": [
        {
          "output_type": "execute_result",
          "data": {
            "text/plain": [
              "<sklearn.metrics._plot.confusion_matrix.ConfusionMatrixDisplay at 0x7c2c5f00d630>"
            ]
          },
          "metadata": {},
          "execution_count": 17
        },
        {
          "output_type": "display_data",
          "data": {
            "text/plain": [
              "<Figure size 640x480 with 2 Axes>"
            ],
            "image/png": "[encoded data removed]"
          },
          "metadata": {}
        }
      ]
    },
    {
      "cell_type": "code",
      "source": [
        "# Criando o modelo, treinando e testando, com over sample.\n",
        "rf_over = RandomForestClassifier()\n",
        "rf_over.fit(x_over, y_over)\n",
        "y_pred_rf_over = (rf_over.predict(x_test))"
      ],
      "metadata": {
        "id": "XitcNrpOC2oy"
      },
      "execution_count": 18,
      "outputs": []
    },
    {
      "cell_type": "code",
      "source": [
        "# Exibindo a matriz de confusão.\n",
        "rf_over_cm = confusion_matrix(y_test, y_pred_rf_over, labels=rf_over.classes_)\n",
        "rf_over_disp = ConfusionMatrixDisplay(confusion_matrix=rf_over_cm, display_labels=rf_over.classes_)\n",
        "rf_over_disp.plot()"
      ],
      "metadata": {
        "id": "hu8PtKt0C2eY",
        "outputId": "1904deb9-406e-4837-a069-3f13df8e24ca",
        "colab": {
          "base_uri": "https://localhost:8080/",
          "height": 470
        }
      },
      "execution_count": 22,
      "outputs": [
        {
          "output_type": "execute_result",
          "data": {
            "text/plain": [
              "<sklearn.metrics._plot.confusion_matrix.ConfusionMatrixDisplay at 0x7c2c5fca9360>"
            ]
          },
          "metadata": {},
          "execution_count": 22
        },
        {
          "output_type": "display_data",
          "data": {
            "text/plain": [
              "<Figure size 640x480 with 2 Axes>"
            ],
            "image/png": "[encoded data removed]"
          },
          "metadata": {}
        }
      ]
    },
    {
      "cell_type": "code",
      "source": [
        "# Mostrando as métricas e comparando treino com teste para analisar possível over fitting.\n",
        "print(f'Acurácia - Treino: {accuracy_score(y_train, rf.predict(x_train))}')\n",
        "print(f'Acurácia - Teste: {accuracy_score(y_test, y_pred_rf)}')\n",
        "print(10*'-+-')\n",
        "print(f'Acurácia Balanceada - Treino: {balanced_accuracy_score(y_train, rf.predict(x_train))}')\n",
        "print(f'Acurácia Balanceada - Teste: {balanced_accuracy_score(y_test, y_pred_rf)}')\n",
        "print(10*'-+-')\n",
        "print(f'F1 - Treino: {f1_score(y_train, rf.predict(x_train))}')\n",
        "print(f'F1 - Teste: {f1_score(y_test, y_pred_rf)}')\n",
        "print(10*'-+-')\n",
        "print(10*'-+-')\n",
        "print(f'Acurácia Over - Treino: {accuracy_score(y_train, rf_over.predict(x_train))}')\n",
        "print(f'Acurácia Over - Teste: {accuracy_score(y_test, y_pred_rf_over)}')\n",
        "print(10*'-+-')\n",
        "print(f'Acurácia Balanceada Over - Treino: {balanced_accuracy_score(y_train, rf_over.predict(x_train))}')\n",
        "print(f'Acurácia Balanceada Over - Teste: {balanced_accuracy_score(y_test, y_pred_rf_over)}')\n",
        "print(10*'-+-')\n",
        "print(f'F1 Over - Treino: {f1_score(y_train, rf_over.predict(x_train))}')\n",
        "print(f'F1 Over - Teste: {f1_score(y_test, y_pred_rf_over)}')"
      ],
      "metadata": {
        "id": "xtud6EhRC2Dn",
        "outputId": "ce5494d5-9f55-42b4-f0a1-94e30e249157",
        "colab": {
          "base_uri": "https://localhost:8080/"
        }
      },
      "execution_count": 21,
      "outputs": [
        {
          "output_type": "stream",
          "name": "stdout",
          "text": [
            "Acurácia - Treino: 1.0\n",
            "Acurácia - Teste: 0.9995743473325767\n",
            "-+--+--+--+--+--+--+--+--+--+-\n",
            "Acurácia Balanceada - Treino: 1.0\n",
            "Acurácia Balanceada - Teste: 0.8786052537298772\n",
            "-+--+--+--+--+--+--+--+--+--+-\n",
            "F1 - Treino: 1.0\n",
            "F1 - Teste: 0.8387096774193549\n",
            "-+--+--+--+--+--+--+--+--+--+-\n",
            "-+--+--+--+--+--+--+--+--+--+-\n",
            "Acurácia Over - Treino: 1.0\n",
            "Acurácia Over - Teste: 0.9995885357548241\n",
            "-+--+--+--+--+--+--+--+--+--+-\n",
            "Acurácia Balanceada Over - Treino: 1.0\n",
            "Acurácia Balanceada Over - Teste: 0.893154151338333\n",
            "-+--+--+--+--+--+--+--+--+--+-\n",
            "F1 Over - Treino: 1.0\n",
            "F1 Over - Teste: 0.8481675392670157\n"
          ]
        }
      ]
    },
    {
      "cell_type": "markdown",
      "source": [
        "Percebemos que as métricas foram boas, e pouco melhores com o over sample."
      ],
      "metadata": {
        "id": "yzi2zLm7HOTd"
      }
    },
    {
      "cell_type": "markdown",
      "source": [
        "**Concluimos aqui que o melhor modelo para prosseguir é o Random Forest, na versão com Over Sample.**"
      ],
      "metadata": {
        "id": "thQsKKM_H4_y"
      }
    },
    {
      "cell_type": "code",
      "source": [],
      "metadata": {
        "id": "GjMCrqmWHmb8"
      },
      "execution_count": null,
      "outputs": []
    }
  ]
}